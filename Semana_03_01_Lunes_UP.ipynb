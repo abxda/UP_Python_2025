{
  "nbformat": 4,
  "nbformat_minor": 0,
  "metadata": {
    "colab": {
      "provenance": [],
      "authorship_tag": "ABX9TyM9KnntQ+tmVHCt+oP2DY6n",
      "include_colab_link": true
    },
    "kernelspec": {
      "name": "python3",
      "display_name": "Python 3"
    },
    "language_info": {
      "name": "python"
    }
  },
  "cells": [
    {
      "cell_type": "markdown",
      "metadata": {
        "id": "view-in-github",
        "colab_type": "text"
      },
      "source": [
        "<a href=\"https://colab.research.google.com/github/abxda/UP_Python_2025/blob/main/Semana_03_01_Lunes_UP.ipynb\" target=\"_parent\"><img src=\"https://colab.research.google.com/assets/colab-badge.svg\" alt=\"Open In Colab\"/></a>"
      ]
    },
    {
      "cell_type": "markdown",
      "source": [
        "# Manejo Básico de Archivos y Carpetas en Python\n",
        "\n",
        "En este ejemplo aprenderemos a realizar operaciones básicas con archivos y carpetas utilizando Python. Se explicarán paso a paso conceptos fundamentales con el fin de entender cómo se trabaja con el sistema de archivos.\n",
        "\n",
        "## Librerías Utilizadas\n",
        "\n",
        "- **`os`**: Proporciona funciones para interactuar con el sistema operativo, permitiendo crear, listar y verificar la existencia de archivos y carpetas.\n",
        "- **`shutil`**: Ofrece funciones de alto nivel para gestionar operaciones avanzadas con archivos y carpetas, como eliminar directorios completos de manera recursiva.\n",
        "\n",
        "## ¿Qué Hace el Código?\n",
        "\n",
        "1. **Creación de una Carpeta Temporal:**\n",
        "   - Se comprueba si la carpeta llamada `mi_carpeta` ya existe.\n",
        "   - Si no existe, se crea la carpeta usando `os.makedirs`.\n",
        "   \n",
        "2. **Creación de un Archivo de Ejemplo:**\n",
        "   - Dentro de `mi_carpeta`, se crea un archivo llamado `ejemplo.txt`.\n",
        "   - Se escribe el texto `\"Hola alumnos!\"` en el archivo.\n",
        "\n",
        "3. **Listado de Contenidos de la Carpeta:**\n",
        "   - Se muestra en pantalla el contenido de `mi_carpeta` para verificar que el archivo se creó correctamente.\n",
        "\n",
        "4. **Eliminación de la Carpeta y su Contenido:**\n",
        "   - Finalmente, se elimina la carpeta `mi_carpeta` junto con todos sus contenidos usando `shutil.rmtree`.\n",
        "\n",
        "## Código de Ejemplo para Google Colab\n"
      ],
      "metadata": {
        "id": "dOr5YKeY7Z2B"
      }
    },
    {
      "cell_type": "code",
      "source": [
        "import os\n",
        "import shutil"
      ],
      "metadata": {
        "id": "IJarxhSQ1fne"
      },
      "execution_count": null,
      "outputs": []
    },
    {
      "cell_type": "code",
      "source": [
        "os.path.exists('mi_carpeta')"
      ],
      "metadata": {
        "id": "j3W0BWQM2INQ"
      },
      "execution_count": null,
      "outputs": []
    },
    {
      "cell_type": "code",
      "source": [
        "#/content/mi_carpeta"
      ],
      "metadata": {
        "id": "xB5n_Ycj3OSZ"
      },
      "execution_count": null,
      "outputs": []
    },
    {
      "cell_type": "code",
      "source": [
        "# Crear carpeta temporal\n",
        "if not os.path.exists('mi_carpeta'):\n",
        "    os.makedirs('mi_carpeta/con/sub/carpetas')\n",
        "    print(\"Carpeta creada!\")"
      ],
      "metadata": {
        "id": "7UJ9RR_J17OO"
      },
      "execution_count": null,
      "outputs": []
    },
    {
      "cell_type": "code",
      "source": [
        "# Crear archivo de ejemplo\n",
        "with open('mi_carpeta/ejemplo.txt', 'w') as f:\n",
        "    f.write(\"Hola alumnos!\")"
      ],
      "metadata": {
        "id": "6t_kCzq217Rm"
      },
      "execution_count": null,
      "outputs": []
    },
    {
      "cell_type": "code",
      "source": [
        "# Listar contenidos\n",
        "print(\"\\nContenidos de la carpeta:\")\n",
        "print(os.listdir('mi_carpeta'))"
      ],
      "metadata": {
        "id": "bvirgCls17T2"
      },
      "execution_count": null,
      "outputs": []
    },
    {
      "cell_type": "code",
      "source": [
        "ruta = os.getcwd()"
      ],
      "metadata": {
        "id": "IZtzO4Db5Ab0"
      },
      "execution_count": null,
      "outputs": []
    },
    {
      "cell_type": "code",
      "source": [
        "print(ruta)"
      ],
      "metadata": {
        "id": "PEWR3SfN95uh"
      },
      "execution_count": null,
      "outputs": []
    },
    {
      "cell_type": "code",
      "source": [
        "os.getcwdb()"
      ],
      "metadata": {
        "id": "ElShWg0J9h9d"
      },
      "execution_count": null,
      "outputs": []
    },
    {
      "cell_type": "code",
      "source": [
        "# Eliminar todo (¡cuidado!)\n",
        "shutil.rmtree('mi_carpeta')\n",
        "print(\"\\nCarpeta eliminada!\")"
      ],
      "metadata": {
        "id": "0nZBseFQ7c_7"
      },
      "execution_count": null,
      "outputs": []
    },
    {
      "cell_type": "markdown",
      "source": [
        "## Explicación Detallada del Código\n",
        "\n",
        "### 1. Importación de Librerías\n",
        "\n",
        "```python\n",
        "import os\n",
        "import shutil\n",
        "```\n",
        "\n",
        "- **`import os`**: Nos permite acceder a funciones del sistema operativo, como la creación y manejo de directorios.\n",
        "- **`import shutil`**: Permite realizar operaciones de alto nivel en archivos y carpetas, como eliminar carpetas completas.\n",
        "\n",
        "### 2. Creación de la Carpeta\n",
        "\n",
        "```python\n",
        "if not os.path.exists('mi_carpeta'):\n",
        "    os.makedirs('mi_carpeta')\n",
        "    print(\"Carpeta creada!\")\n",
        "```\n",
        "\n",
        "- **`os.path.exists('mi_carpeta')`**: Verifica si la carpeta `mi_carpeta` ya existe en el directorio actual.\n",
        "- **`os.makedirs('mi_carpeta')`**: Crea la carpeta `mi_carpeta` si no se encuentra.\n",
        "- **`print(\"Carpeta creada!\")`**: Muestra un mensaje en la consola confirmando la creación de la carpeta.\n",
        "\n",
        "### 3. Creación del Archivo de Ejemplo\n",
        "\n",
        "```python\n",
        "with open('mi_carpeta/ejemplo.txt', 'w') as f:\n",
        "    f.write(\"Hola alumnos!\")\n",
        "```\n",
        "\n",
        "- **`with open('mi_carpeta/ejemplo.txt', 'w') as f`**: Abre (o crea si no existe) el archivo `ejemplo.txt` dentro de `mi_carpeta` en modo escritura (`'w'`). El uso del bloque `with` asegura que el archivo se cierre automáticamente después de escribir en él.\n",
        "- **`f.write(\"Hola alumnos!\")`**: Escribe el texto `\"Hola alumnos!\"` en el archivo.\n",
        "\n",
        "### 4. Listado de Contenidos de la Carpeta\n",
        "\n",
        "```python\n",
        "print(\"\\nContenidos de la carpeta:\")\n",
        "print(os.listdir('mi_carpeta'))\n",
        "```\n",
        "\n",
        "- **`os.listdir('mi_carpeta')`**: Obtiene una lista con los nombres de los archivos y carpetas que se encuentran dentro de `mi_carpeta`.\n",
        "- **`print`**: Imprime la lista en la consola, permitiéndonos ver que el archivo `ejemplo.txt` ha sido creado.\n",
        "\n",
        "### 5. Eliminación de la Carpeta y su Contenido\n",
        "\n",
        "```python\n",
        "shutil.rmtree('mi_carpeta')\n",
        "print(\"\\nCarpeta eliminada!\")\n",
        "```\n",
        "\n",
        "- **`shutil.rmtree('mi_carpeta')`**: Elimina la carpeta `mi_carpeta` y todos sus contenidos de manera recursiva. **¡Cuidado!** Esta operación elimina todo sin posibilidad de recuperación.\n",
        "- **`print(\"Carpeta eliminada!\")`**: Confirma en la consola que la carpeta y su contenido han sido eliminados.\n",
        "\n",
        "## Conclusión\n",
        "\n",
        "Este ejemplo demuestra cómo:\n",
        "- **Crear y gestionar carpetas y archivos** usando Python.\n",
        "- **Verificar la existencia de archivos y carpetas** para evitar errores.\n",
        "- **Realizar operaciones de limpieza** eliminando carpetas y archivos de forma segura.\n",
        "\n",
        "Es una excelente forma de comenzar a interactuar con el sistema de archivos en Python, un conocimiento esencial para el manejo de datos y la automatización de tareas."
      ],
      "metadata": {
        "id": "9fnOVS0W8l41"
      }
    },
    {
      "cell_type": "markdown",
      "source": [
        "# Descarga de Archivos con Requests y TQDM en Python\n",
        "\n",
        "En este ejemplo aprenderemos a descargar un archivo desde la web utilizando la librería `requests` para realizar peticiones HTTP y `tqdm` para mostrar una barra de progreso durante la descarga. Este método es muy útil cuando se trabaja con archivos grandes, ya que se descarga el contenido en partes (chunks) en lugar de cargarlo todo en memoria de una sola vez.\n",
        "\n",
        "## Librerías Utilizadas\n",
        "\n",
        "- **`requests`**: Permite realizar peticiones HTTP de forma sencilla, lo que es esencial para descargar archivos desde internet.\n",
        "- **`tqdm`**: Proporciona una barra de progreso visual que ayuda a monitorizar el avance de la descarga.\n",
        "\n",
        "## ¿Qué Hace el Código?\n",
        "\n",
        "1. **Importación de Librerías:**\n",
        "   - Se importan las librerías `requests` y `tqdm` para gestionar la descarga y la visualización del progreso.\n",
        "\n",
        "2. **Definición de la Función `descarga_simple`:**\n",
        "   - Esta función recibe como parámetro una URL y se encarga de descargar el archivo ubicado en esa dirección.\n",
        "   - Realiza una petición HTTP a la URL con `stream=True` para obtener el contenido en bloques pequeños.\n",
        "   - Extrae el tamaño total del archivo a descargar de la cabecera HTTP `content-length`.\n",
        "\n",
        "3. **Descarga en Chunks:**\n",
        "   - Se abre un archivo en modo binario para escribir los datos descargados.\n",
        "   - Se utiliza un bucle para iterar sobre el contenido del archivo en bloques de 1024 bytes.\n",
        "   - Por cada bloque descargado, se escribe en el archivo y se actualiza la barra de progreso.\n",
        "\n",
        "4. **Ejecución y Mensaje Final:**\n",
        "   - Se invoca la función `descarga_simple` pasando una URL de ejemplo (el logo de Python).\n",
        "   - Al finalizar la descarga, se imprime un mensaje que indica que la imagen ha sido descargada correctamente.\n",
        "\n",
        "## Código de Ejemplo para Google Colab"
      ],
      "metadata": {
        "id": "voTg6BQB9qnu"
      }
    },
    {
      "cell_type": "code",
      "source": [
        "import requests\n",
        "from tqdm import tqdm"
      ],
      "metadata": {
        "id": "SCirWPoN_Xgp"
      },
      "execution_count": null,
      "outputs": []
    },
    {
      "cell_type": "code",
      "source": [
        "def descarga_simple(url,nombre_archivo):\n",
        "    response = requests.get(url, stream=True)\n",
        "    total = int(response.headers.get('content-length', 0))\n",
        "\n",
        "    with open(nombre_archivo, 'wb') as f, tqdm(\n",
        "        desc='Descargando',\n",
        "        total=total,\n",
        "        unit='iB',\n",
        "        unit_scale=True\n",
        "    ) as bar:\n",
        "        for data in response.iter_content(chunk_size=1024):\n",
        "            f.write(data)\n",
        "            bar.update(len(data))"
      ],
      "metadata": {
        "id": "IJT5_nM8_Xj5"
      },
      "execution_count": null,
      "outputs": []
    },
    {
      "cell_type": "code",
      "source": [
        "# Ejecutar\n",
        "descarga_simple('https://www.inegi.org.mx/contenidos/programas/ccpv/2020/datosabiertos/ageb_manzana/ageb_mza_urbana_10_cpv2020_csv.zip', 'ageb_mza_urbana_10_cpv2020_csv.zip')\n",
        "print(\"\\nArchivo descargado!\")"
      ],
      "metadata": {
        "id": "oqyKqVg894An"
      },
      "execution_count": null,
      "outputs": []
    },
    {
      "cell_type": "code",
      "source": [
        "url = 'https://www.inegi.org.mx/contenidos/programas/ccpv/2020/datosabiertos/ageb_manzana/ageb_mza_urbana_10_cpv2020_csv.zip'\n",
        "response = requests.get(url, stream=True)"
      ],
      "metadata": {
        "id": "8weKxG1zETGH"
      },
      "execution_count": null,
      "outputs": []
    },
    {
      "cell_type": "code",
      "source": [
        "response.headers.items()"
      ],
      "metadata": {
        "id": "VBa4c_ERDJ0P"
      },
      "execution_count": null,
      "outputs": []
    },
    {
      "cell_type": "markdown",
      "source": [
        "## Explicación Detallada del Código\n",
        "\n",
        "### 1. Importación de Librerías\n",
        "\n",
        "```python\n",
        "import requests\n",
        "from tqdm import tqdm\n",
        "```\n",
        "\n",
        "- **`requests`**: Se utiliza para realizar la petición HTTP a la URL del archivo que deseamos descargar.\n",
        "- **`tqdm`**: Se usa para crear una barra de progreso que nos indica en tiempo real el avance de la descarga.\n",
        "\n",
        "### 2. Definición de la Función `descarga_simple`\n",
        "\n",
        "```python\n",
        "def descarga_simple(url):\n",
        "    response = requests.get(url, stream=True)\n",
        "    total = int(response.headers.get('content-length', 0))\n",
        "```\n",
        "\n",
        "- **`response = requests.get(url, stream=True)`**:\n",
        "  - Envía una petición GET a la URL especificada.\n",
        "  - El parámetro `stream=True` permite descargar el contenido en partes, lo cual es ideal para archivos grandes.\n",
        "- **`total = int(response.headers.get('content-length', 0))`**:\n",
        "  - Extrae el tamaño total del archivo a partir de la cabecera HTTP `content-length`.\n",
        "  - Esto es necesario para configurar la barra de progreso y saber cuántos bytes se deben descargar.\n",
        "\n",
        "### 3. Descarga del Archivo en Bloques (Chunks)\n",
        "\n",
        "```python\n",
        "    with open('logo.png', 'wb') as f, tqdm(\n",
        "        desc='Descargando',\n",
        "        total=total,\n",
        "        unit='iB',\n",
        "        unit_scale=True\n",
        "    ) as bar:\n",
        "        for data in response.iter_content(chunk_size=1024):\n",
        "            f.write(data)\n",
        "            bar.update(len(data))\n",
        "```\n",
        "\n",
        "- **Apertura del Archivo:**\n",
        "  - Se abre el archivo `logo.png` en modo escritura binaria (`'wb'`) para guardar los datos descargados.\n",
        "- **Uso de `tqdm`:**\n",
        "  - Se configura una barra de progreso que muestra:\n",
        "    - `desc='Descargando'`: Una descripción junto a la barra.\n",
        "    - `total=total`: El total de bytes a descargar.\n",
        "    - `unit='iB'`: La unidad que se utiliza (bytes).\n",
        "    - `unit_scale=True`: Permite que la unidad se escale automáticamente a KB, MB, etc.\n",
        "- **Bucle de Descarga:**\n",
        "  - Se itera sobre el contenido descargado en bloques de 1024 bytes.\n",
        "  - Cada bloque se escribe en el archivo y se actualiza la barra de progreso en función de la cantidad de datos descargados.\n",
        "\n",
        "### 4. Ejecución y Mensaje Final\n",
        "\n",
        "```python\n",
        "# Ejecutar\n",
        "descarga_simple('https://www.python.org/static/community_logos/python-logo.png')\n",
        "print(\"\\nImagen descargada!\")\n",
        "```\n",
        "\n",
        "- **Invocación de la Función:**\n",
        "  - Se llama a `descarga_simple` pasando la URL del logo de Python como argumento.\n",
        "- **Confirmación:**\n",
        "  - Una vez completada la descarga, se imprime el mensaje `\"Imagen descargada!\"` para confirmar que la operación se realizó con éxito.\n",
        "\n",
        "## Conclusión\n",
        "\n",
        "Este ejemplo enseña cómo:\n",
        "- **Realizar peticiones HTTP** para descargar archivos usando `requests`.\n",
        "- **Descargar archivos en bloques** para gestionar mejor la memoria, especialmente útil para archivos de gran tamaño.\n",
        "- **Utilizar una barra de progreso** con `tqdm` para visualizar el avance de la descarga.\n",
        "- **Manejar archivos en modo binario** para asegurar que se guarde correctamente el contenido descargado.\n",
        "\n",
        "Con estos conceptos, podrás implementar descargas de archivos de forma eficiente en tus proyectos de Python."
      ],
      "metadata": {
        "id": "LTBhiSgy94qX"
      }
    },
    {
      "cell_type": "markdown",
      "source": [
        "# Trabajo con ZIPs en Python\n",
        "\n",
        "En este ejemplo aprenderemos a trabajar con archivos ZIP utilizando la librería `zipfile` de Python. Veremos cómo crear un archivo ZIP, agregarle contenido y luego extraerlo. Este ejemplo es útil para comprender conceptos de compresión, manejo de streams y organización de archivos en un contenedor ZIP.\n",
        "\n",
        "## Introducción y Objetivos\n",
        "\n",
        "El propósito de este ejemplo es enseñar a:\n",
        "- **Crear un archivo ZIP:** Utilizando `zipfile.ZipFile` en modo escritura para agrupar archivos o contenidos.\n",
        "- **Agregar contenido al ZIP:** Empleando el método `writestr` para escribir archivos de texto directamente en el ZIP sin necesidad de tener archivos físicos previos.\n",
        "- **Extraer el contenido del ZIP:** Utilizando el método `extractall` para descomprimir todos los archivos contenidos en una carpeta específica.\n",
        "- **Visualizar el contenido:** Listando los archivos dentro del ZIP y en el directorio de extracción para confirmar que las operaciones se han realizado correctamente.\n",
        "\n",
        "**Librerías utilizadas:**\n",
        "- **`zipfile`**: Librería estándar de Python que permite trabajar con archivos ZIP (crear, leer, escribir y extraer).\n",
        "- **`os`**: Utilizada para interactuar con el sistema de archivos, en este caso, para listar los contenidos de un directorio.  \n",
        "  *Nota:* `os` es parte de la biblioteca estándar de Python, por lo que no requiere instalación adicional.\n",
        "## Código de Ejemplo para Google Colab\n"
      ],
      "metadata": {
        "id": "3fCIfMSq_zyU"
      }
    },
    {
      "cell_type": "code",
      "source": [
        "import zipfile\n",
        "import os"
      ],
      "metadata": {
        "id": "nNhF5iYBNfPs"
      },
      "execution_count": null,
      "outputs": []
    },
    {
      "cell_type": "code",
      "source": [
        "# Crear ZIP de ejemplo\n",
        "texto = \"\"\"\n",
        "Este es un texto\n",
        "de ejemplo\n",
        "con varias\n",
        "lineas.\n",
        "\"\"\"\n",
        "with zipfile.ZipFile('ejemplo1.zip', 'w') as z:\n",
        "    z.writestr('archivo1.txt', texto)\n",
        "    z.writestr('archivo2.txt', 'Contenido 2')"
      ],
      "metadata": {
        "id": "0IPonW16No1q"
      },
      "execution_count": null,
      "outputs": []
    },
    {
      "cell_type": "code",
      "source": [
        "# Extraer contenido\n",
        "with zipfile.ZipFile('ejemplo.zip', 'r') as z:\n",
        "    z.extractall('extraido')"
      ],
      "metadata": {
        "id": "3t8mHBxSOMoj"
      },
      "execution_count": null,
      "outputs": []
    },
    {
      "cell_type": "code",
      "source": [
        "# Mostrar resultados\n",
        "print(\"Archivos en el ZIP:\")\n",
        "print(z.namelist())\n",
        "print(\"\\nContenido extraído:\")\n",
        "print(os.listdir('extraido'))"
      ],
      "metadata": {
        "id": "0mTaGhij8rn-"
      },
      "execution_count": null,
      "outputs": []
    },
    {
      "cell_type": "code",
      "source": [],
      "metadata": {
        "id": "LsoL6LU4Nary"
      },
      "execution_count": null,
      "outputs": []
    },
    {
      "cell_type": "markdown",
      "source": [
        "\n",
        "## Explicación Paso a Paso del Código\n",
        "\n",
        "### 1. Importación de Librerías\n",
        "\n",
        "```python\n",
        "import zipfile\n",
        "import os\n",
        "```\n",
        "\n",
        "- **`import zipfile`**: Importa la librería que permite manejar archivos ZIP.\n",
        "- **`import os`**: Importa la librería para operaciones con el sistema de archivos, como listar directorios.\n",
        "\n",
        "### 2. Creación del Archivo ZIP y Agregado de Contenido\n",
        "\n",
        "```python\n",
        "# Crear ZIP de ejemplo\n",
        "with zipfile.ZipFile('ejemplo.zip', 'w') as z:\n",
        "    z.writestr('archivo1.txt', 'Contenido 1')\n",
        "    z.writestr('archivo2.txt', 'Contenido 2')\n",
        "```\n",
        "\n",
        "- **`with zipfile.ZipFile('ejemplo.zip', 'w') as z:`**\n",
        "  - Se abre (o crea) un archivo ZIP llamado `ejemplo.zip` en modo escritura (`'w'`).\n",
        "  - El uso del bloque `with` garantiza que el archivo se cierre correctamente al finalizar las operaciones.\n",
        "- **`z.writestr('archivo1.txt', 'Contenido 1')` y `z.writestr('archivo2.txt', 'Contenido 2')`:**\n",
        "  - Estos métodos escriben archivos de texto directamente en el archivo ZIP. Cada llamada crea un archivo virtual dentro del ZIP con el nombre y contenido especificados.\n",
        "\n",
        "### 3. Extracción del Contenido del Archivo ZIP\n",
        "\n",
        "```python\n",
        "# Extraer contenido\n",
        "with zipfile.ZipFile('ejemplo.zip', 'r') as z:\n",
        "    z.extractall('extraido')\n",
        "```\n",
        "\n",
        "- **`with zipfile.ZipFile('ejemplo.zip', 'r') as z:`**\n",
        "  - Se abre el archivo ZIP en modo lectura (`'r'`).\n",
        "- **`z.extractall('extraido')`:**\n",
        "  - Extrae todos los archivos contenidos en el ZIP a la carpeta `extraido`. Si la carpeta no existe, Python la crea automáticamente.\n",
        "\n",
        "### 4. Visualización de Resultados\n",
        "\n",
        "```python\n",
        "# Mostrar resultados\n",
        "print(\"Archivos en el ZIP:\")\n",
        "print(z.namelist())\n",
        "print(\"\\nContenido extraído:\")\n",
        "print(os.listdir('extraido'))\n",
        "```\n",
        "\n",
        "- **`z.namelist()`**: Devuelve una lista con los nombres de los archivos contenidos en el ZIP.\n",
        "- **`os.listdir('extraido')`**: Lista el contenido del directorio `extraido` para verificar que la extracción se realizó correctamente.\n",
        "- Se utilizan `print` para mostrar los resultados en la consola.\n",
        "\n",
        "## Conclusión\n",
        "\n",
        "En este ejemplo aprendimos a:\n",
        "- Crear un archivo ZIP y agregarle archivos de manera dinámica.\n",
        "- Extraer el contenido de un archivo ZIP a un directorio específico.\n",
        "- Utilizar `zipfile` y `os` para manipular archivos comprimidos y gestionar el sistema de archivos.\n",
        "\n",
        "Estos conocimientos son fundamentales para tareas como la compresión de datos, la creación de backups, y el manejo de múltiples archivos en aplicaciones. Como mejora adicional, podrías explorar:\n",
        "- La aplicación de diferentes métodos de compresión disponibles en `zipfile`.\n",
        "- La implementación de manejo de errores para situaciones como archivos corruptos o problemas de permisos.\n"
      ],
      "metadata": {
        "id": "ATXVA9wEAAUt"
      }
    },
    {
      "cell_type": "markdown",
      "source": [
        "# Introducción a DuckDB en Python\n",
        "\n",
        "En este ejemplo aprenderemos a utilizar **DuckDB**, una base de datos SQL de alto rendimiento que se puede ejecutar en memoria. Veremos cómo:\n",
        "- Conectar a una base de datos en memoria.\n",
        "- Crear una tabla.\n",
        "- Insertar datos en la tabla.\n",
        "- Realizar consultas para recuperar información.\n",
        "\n",
        "Este ejemplo es ideal para principiantes que deseen entender los conceptos básicos de las bases de datos SQL y cómo realizar operaciones CRUD (Crear, Leer, Actualizar y Eliminar) utilizando DuckDB. Además, se destacará la diferencia entre trabajar con bases de datos en memoria (temporales) frente a bases de datos persistentes en disco.\n",
        "\n",
        "## Introducción y Objetivos\n",
        "\n",
        "**Propósito del ejemplo:**\n",
        "- Demostrar el uso básico de DuckDB para gestionar bases de datos en memoria.\n",
        "- Enseñar cómo crear tablas, insertar registros y consultar datos utilizando sentencias SQL.\n",
        "\n",
        "**Conceptos clave:**\n",
        "- **Bases de datos SQL:** Estructuras que permiten almacenar y gestionar datos de forma organizada utilizando el lenguaje SQL.\n",
        "- **Operaciones CRUD:** Aunque en este ejemplo se muestran las operaciones de creación e inserción, se introduce el concepto de CRUD.\n",
        "- **DB en memoria vs persistente:** DuckDB, al conectarse sin especificar un archivo, crea una base de datos en memoria, lo cual es ideal para pruebas y procesamiento rápido de datos, pero se pierde al cerrar la conexión.\n",
        "\n",
        "**Librerías utilizadas:**\n",
        "- **`duckdb`**: Permite la conexión y manipulación de bases de datos SQL de manera sencilla y eficiente.\n",
        "  \n",
        "## Código Listo para Google Colab\n"
      ],
      "metadata": {
        "id": "KDJCJU3EAXhW"
      }
    },
    {
      "cell_type": "code",
      "source": [
        "import duckdb"
      ],
      "metadata": {
        "id": "A9YePwybRr56"
      },
      "execution_count": null,
      "outputs": []
    },
    {
      "cell_type": "code",
      "source": [
        "# Crear DB en memoria\n",
        "con = duckdb.connect()"
      ],
      "metadata": {
        "id": "SIB8DiCfRuG8"
      },
      "execution_count": null,
      "outputs": []
    },
    {
      "cell_type": "code",
      "source": [
        "# Crear tabla\n",
        "con.execute(\"CREATE TABLE alumnos (identificador VARCHAR, nombre VARCHAR, edad INTEGER)\")"
      ],
      "metadata": {
        "id": "CiJP4nSYRuJZ"
      },
      "execution_count": null,
      "outputs": []
    },
    {
      "cell_type": "markdown",
      "source": [],
      "metadata": {
        "id": "H4MDcfv3W91S"
      }
    },
    {
      "cell_type": "code",
      "source": [
        "# Insertar datos\n",
        "con.execute(\"INSERT INTO alumnos VALUES ('e1', 'Ana', 25)\")\n",
        "con.execute(\"INSERT INTO alumnos VALUES ('e2', 'Luis', 23)\")"
      ],
      "metadata": {
        "id": "pEtYAeCcR_bU"
      },
      "execution_count": null,
      "outputs": []
    },
    {
      "cell_type": "code",
      "source": [],
      "metadata": {
        "id": "pWUuicQTR_fj"
      },
      "execution_count": null,
      "outputs": []
    },
    {
      "cell_type": "code",
      "source": [
        "# Consultar\n",
        "resultado = con.execute(\"SELECT * FROM ALUMNOS WHERE IDENTIFICADOR = 'e1'\").fetchdf()\n",
        "print(\"Base de datos:\")\n",
        "print(resultado)\n"
      ],
      "metadata": {
        "id": "mi0k9y8FBU3r"
      },
      "execution_count": null,
      "outputs": []
    },
    {
      "cell_type": "code",
      "source": [
        "resultado"
      ],
      "metadata": {
        "id": "8ysDCXqVTUJd"
      },
      "execution_count": null,
      "outputs": []
    },
    {
      "cell_type": "markdown",
      "source": [
        "  \n",
        "## Explicación Paso a Paso del Código\n",
        "\n",
        "### 1. Importación de la Librería DuckDB\n",
        "\n",
        "```python\n",
        "import duckdb\n",
        "```\n",
        "\n",
        "- **`import duckdb`**: Importa la librería necesaria para trabajar con DuckDB, permitiéndonos ejecutar consultas SQL y gestionar la base de datos.\n",
        "\n",
        "### 2. Creación de la Base de Datos en Memoria\n",
        "\n",
        "```python\n",
        "# Crear DB en memoria\n",
        "con = duckdb.connect()\n",
        "```\n",
        "\n",
        "- **`duckdb.connect()`**: Establece una conexión con una base de datos en memoria. Al no pasar un nombre de archivo, se crea una base de datos temporal que existirá solo durante la sesión actual.\n",
        "\n",
        "### 3. Creación de la Tabla\n",
        "\n",
        "```python\n",
        "# Crear tabla\n",
        "con.execute(\"CREATE TABLE estudiantes (nombre VARCHAR, edad INTEGER)\")\n",
        "```\n",
        "\n",
        "- **`con.execute(\"CREATE TABLE estudiantes (nombre VARCHAR, edad INTEGER)\")`**:\n",
        "  - Ejecuta una sentencia SQL para crear una tabla llamada `estudiantes`.\n",
        "  - La tabla contiene dos columnas: `nombre` (tipo VARCHAR para texto) y `edad` (tipo INTEGER para números enteros).\n",
        "\n",
        "### 4. Inserción de Datos en la Tabla\n",
        "\n",
        "```python\n",
        "# Insertar datos\n",
        "con.execute(\"INSERT INTO estudiantes VALUES ('Ana', 25)\")\n",
        "con.execute(\"INSERT INTO estudiantes VALUES ('Luis', 23)\")\n",
        "```\n",
        "\n",
        "- **Inserción de registros:**\n",
        "  - Cada llamada a `con.execute()` inserta un registro en la tabla `estudiantes`.\n",
        "  - Se insertan dos registros: uno para `Ana` con 25 años y otro para `Luis` con 23 años.\n",
        "  - Es importante asegurarse de que los valores proporcionados coincidan con los tipos definidos en la tabla.\n",
        "\n",
        "### 5. Consulta y Recuperación de Datos\n",
        "\n",
        "```python\n",
        "# Consultar\n",
        "resultado = con.execute(\"SELECT * FROM estudiantes\").fetchdf()\n",
        "print(\"Base de datos:\")\n",
        "print(resultado)\n",
        "```\n",
        "\n",
        "- **Consulta SQL:**\n",
        "  - Se utiliza `con.execute(\"SELECT * FROM estudiantes\")` para seleccionar todos los registros de la tabla.\n",
        "- **Recuperación de los datos:**\n",
        "  - El método `.fetchdf()` convierte el resultado de la consulta en un DataFrame de pandas, lo que facilita la manipulación y visualización de los datos.\n",
        "- **Visualización:**\n",
        "  - Se imprime el contenido de la base de datos para verificar que la inserción y la consulta se realizaron correctamente.\n",
        "\n",
        "## Conclusión\n",
        "\n",
        "En este ejemplo hemos aprendido a:\n",
        "- Conectar a una base de datos en memoria usando DuckDB.\n",
        "- Crear una tabla y definir su estructura con columnas específicas.\n",
        "- Insertar datos en la tabla utilizando sentencias SQL.\n",
        "- Realizar una consulta para recuperar y visualizar la información almacenada.\n",
        "\n",
        "Estos conceptos son fundamentales para el manejo de bases de datos SQL y permiten comprender operaciones básicas de CRUD. Como mejoras adicionales, podrías explorar:\n",
        "- **Operaciones de actualización y eliminación** (UPDATE y DELETE).\n",
        "- **Persistencia de datos** guardando la base de datos en disco.\n",
        "- **Manejo de errores y validación de datos** para asegurar la integridad de las operaciones en entornos de producción."
      ],
      "metadata": {
        "id": "dPT7DJDhBVno"
      }
    },
    {
      "cell_type": "markdown",
      "source": [],
      "metadata": {
        "id": "8MsfnGI7CBeJ"
      }
    }
  ]
}